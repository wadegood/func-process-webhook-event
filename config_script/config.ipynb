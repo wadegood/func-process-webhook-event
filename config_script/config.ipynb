{
 "cells": [
  {
   "cell_type": "code",
   "execution_count": 14,
   "metadata": {},
   "outputs": [],
   "source": [
    "import json\n",
    "from strava import StravaClient"
   ]
  },
  {
   "cell_type": "code",
   "execution_count": 15,
   "metadata": {},
   "outputs": [],
   "source": [
    "#LOAD ENVIRONMENT VARIABLES FOR PROJECT\n",
    "with open('/workspaces/func-process-webhook-event/local.settings.json','r') as file:\n",
    "    data = json.load(file)\n",
    "\n",
    "STRAVA_CLIENT_ID = data['Values']['STRAVA_CLIENT_ID']\n",
    "STRAVA_CLIENT_SECRET = data['Values']['STRAVA_CLIENT_SECRET']\n",
    "STRAVA_CALLBACK_URL = data['Values']['STRAVA_CALLBACK_URL']"
   ]
  },
  {
   "cell_type": "code",
   "execution_count": 16,
   "metadata": {},
   "outputs": [],
   "source": [
    "#CREATE STRAVA CLIENT\n",
    "myStrava = StravaClient(STRAVA_CLIENT_ID,STRAVA_CLIENT_SECRET)"
   ]
  },
  {
   "cell_type": "code",
   "execution_count": 17,
   "metadata": {},
   "outputs": [
    {
     "name": "stdout",
     "output_type": "stream",
     "text": [
      "b'[]'\n"
     ]
    }
   ],
   "source": [
    "#VIEW CURRENT ACTIVE SUBSCRIPTIONS IN STRAVA\n",
    "result = myStrava.view_subscriptions()\n",
    "print(result)"
   ]
  },
  {
   "cell_type": "code",
   "execution_count": 18,
   "metadata": {},
   "outputs": [
    {
     "name": "stdout",
     "output_type": "stream",
     "text": [
      "b'{\"id\":272438}'\n"
     ]
    }
   ],
   "source": [
    "#CREATE A NEW SUBSCRIPTION\n",
    "verify_token = '1234'\n",
    "callback_url = STRAVA_CALLBACK_URL\n",
    "\n",
    "result = myStrava.create_subscription(callback_url,verify_token)\n",
    "print(result)\n",
    "\n"
   ]
  },
  {
   "cell_type": "code",
   "execution_count": 6,
   "metadata": {},
   "outputs": [
    {
     "name": "stdout",
     "output_type": "stream",
     "text": [
      "b''\n"
     ]
    }
   ],
   "source": [
    "#DELETE SUBSCRIPTION FROM STRAVA\n",
    "result = myStrava.delete_subscription(272433)\n",
    "print(result)"
   ]
  }
 ],
 "metadata": {
  "kernelspec": {
   "display_name": ".venv",
   "language": "python",
   "name": "python3"
  },
  "language_info": {
   "codemirror_mode": {
    "name": "ipython",
    "version": 3
   },
   "file_extension": ".py",
   "mimetype": "text/x-python",
   "name": "python",
   "nbconvert_exporter": "python",
   "pygments_lexer": "ipython3",
   "version": "3.11.11"
  }
 },
 "nbformat": 4,
 "nbformat_minor": 2
}
